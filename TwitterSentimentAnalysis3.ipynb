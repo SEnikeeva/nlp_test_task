{
 "cells": [
  {
   "cell_type": "markdown",
   "metadata": {},
   "source": [
    "# Анализ тональности текста (tweet'а)\n",
    "\n",
    "Цель: построить классификатор для задачи анализа тональности текстов на основе сверточных нейронных сетей и LSTM модели.\n",
    "\n",
    "Данные: сообщения из Twitter за 2016 год."
   ]
  },
  {
   "cell_type": "markdown",
   "metadata": {},
   "source": [
    "## Загрузка данных"
   ]
  },
  {
   "cell_type": "code",
   "execution_count": 1,
   "metadata": {},
   "outputs": [],
   "source": [
    "import pandas as pd\n",
    "\n",
    "df = pd.read_csv('./data/data.csv', header=None, usecols=[1, 2], names=['label', 'text'], sep='\\t')"
   ]
  },
  {
   "cell_type": "code",
   "execution_count": 2,
   "metadata": {},
   "outputs": [
    {
     "data": {
      "text/html": [
       "<div>\n",
       "<style scoped>\n",
       "    .dataframe tbody tr th:only-of-type {\n",
       "        vertical-align: middle;\n",
       "    }\n",
       "\n",
       "    .dataframe tbody tr th {\n",
       "        vertical-align: top;\n",
       "    }\n",
       "\n",
       "    .dataframe thead th {\n",
       "        text-align: right;\n",
       "    }\n",
       "</style>\n",
       "<table border=\"1\" class=\"dataframe\">\n",
       "  <thead>\n",
       "    <tr style=\"text-align: right;\">\n",
       "      <th></th>\n",
       "      <th>label</th>\n",
       "      <th>text</th>\n",
       "    </tr>\n",
       "  </thead>\n",
       "  <tbody>\n",
       "    <tr>\n",
       "      <th>0</th>\n",
       "      <td>neutral</td>\n",
       "      <td>Picturehouse's, Pink Floyd's, 'Roger Waters: T...</td>\n",
       "    </tr>\n",
       "    <tr>\n",
       "      <th>1</th>\n",
       "      <td>neutral</td>\n",
       "      <td>Order Go Set a Watchman in store or through ou...</td>\n",
       "    </tr>\n",
       "    <tr>\n",
       "      <th>2</th>\n",
       "      <td>negative</td>\n",
       "      <td>If these runway renovations at the airport pre...</td>\n",
       "    </tr>\n",
       "    <tr>\n",
       "      <th>3</th>\n",
       "      <td>neutral</td>\n",
       "      <td>If you could ask an onstage interview question...</td>\n",
       "    </tr>\n",
       "    <tr>\n",
       "      <th>4</th>\n",
       "      <td>positive</td>\n",
       "      <td>A portion of book sales from our Harper Lee/Go...</td>\n",
       "    </tr>\n",
       "  </tbody>\n",
       "</table>\n",
       "</div>"
      ],
      "text/plain": [
       "      label                                               text\n",
       "0   neutral  Picturehouse's, Pink Floyd's, 'Roger Waters: T...\n",
       "1   neutral  Order Go Set a Watchman in store or through ou...\n",
       "2  negative  If these runway renovations at the airport pre...\n",
       "3   neutral  If you could ask an onstage interview question...\n",
       "4  positive  A portion of book sales from our Harper Lee/Go..."
      ]
     },
     "execution_count": 2,
     "metadata": {},
     "output_type": "execute_result"
    }
   ],
   "source": [
    "df.head()"
   ]
  },
  {
   "cell_type": "code",
   "execution_count": 3,
   "metadata": {},
   "outputs": [],
   "source": [
    "df['label'].value_counts().plot(kind='bar');"
   ]
  },
  {
   "cell_type": "markdown",
   "metadata": {},
   "source": [
    "## Подготовка данных"
   ]
  },
  {
   "cell_type": "code",
   "execution_count": 4,
   "metadata": {},
   "outputs": [],
   "source": [
    "MAX_TEXT_LENGTH = 140\n",
    "\n",
    "# удаление слишком длинных записей\n",
    "df = df[df['text'].map(len) <= MAX_TEXT_LENGTH]"
   ]
  },
  {
   "cell_type": "code",
   "execution_count": 5,
   "metadata": {},
   "outputs": [],
   "source": [
    "# количество записей для каждой метки\n",
    "NUMBER_PER_LABEL = min(df['label'].value_counts())\n",
    "\n",
    "# семплирование на равные части\n",
    "df = df.groupby('label').apply(lambda x: x.sample(NUMBER_PER_LABEL))"
   ]
  },
  {
   "cell_type": "code",
   "execution_count": 6,
   "metadata": {},
   "outputs": [],
   "source": [
    "# one-hot encoding\n",
    "df = df.join(pd.get_dummies(df['label']))"
   ]
  },
  {
   "cell_type": "code",
   "execution_count": 7,
   "metadata": {},
   "outputs": [],
   "source": [
    "# замена ссылок на токен \"URL\"\n",
    "df['text'] = df['text'].str.replace(r'https?://\\S+', 'URL')\n",
    "\n",
    "# замена упоминаний пользователя на токен \"USER\"\n",
    "df['text'] = df['text'].str.replace(r'@[^\\s]+', 'USER')\n",
    "\n",
    "# удаление пунктуации\n",
    "df['text'] = df['text'].str.replace(r'[^a-zA-Z0-9]+', ' ')\n",
    "\n",
    "# приведение к нижнему регистру\n",
    "df['text'] = df['text'].str.lower()"
   ]
  },
  {
   "cell_type": "code",
   "execution_count": 8,
   "metadata": {},
   "outputs": [],
   "source": [
    "# токенизация\n",
    "import nltk\n",
    "\n",
    "df['tokens'] = df['text'].apply(nltk.word_tokenize)"
   ]
  },
  {
   "cell_type": "code",
   "execution_count": 9,
   "metadata": {},
   "outputs": [],
   "source": [
    "# лемматизация\n",
    "from nltk.stem import WordNetLemmatizer\n",
    "\n",
    "lemmatizer = WordNetLemmatizer()\n",
    "lemmatize = lambda tokens: [lemmatizer.lemmatize(token) for token in tokens]\n",
    "df['tokens'] = df['tokens'].apply(lemmatize)"
   ]
  },
  {
   "cell_type": "code",
   "execution_count": 10,
   "metadata": {},
   "outputs": [],
   "source": [
    "# удаление стоп-слов\n",
    "from nltk.corpus import stopwords\n",
    "\n",
    "STOP_WORDS = set(stopwords.words('english'))\n",
    "\n",
    "delete_stop_words = lambda words: [word for word in words if word not in STOP_WORDS]\n",
    "df['tokens'] = df['tokens'].apply(delete_stop_words)"
   ]
  },
  {
   "cell_type": "code",
   "execution_count": 11,
   "metadata": {},
   "outputs": [],
   "source": [
    "# удаление редких слов\n",
    "from collections import Counter\n",
    "\n",
    "MINIMAL_WORD_FREQUENCY = 3\n",
    "\n",
    "counter = Counter()\n",
    "for row in df['tokens']:\n",
    "    counter.update(row)\n",
    "\n",
    "delete_rare_words = lambda words: [word for word in words if counter[word] >= MINIMAL_WORD_FREQUENCY]\n",
    "df['tokens'] = df['tokens'].apply(delete_rare_words)"
   ]
  },
  {
   "cell_type": "code",
   "execution_count": 12,
   "metadata": {},
   "outputs": [
    {
     "data": {
      "text/html": [
       "<div>\n",
       "<style scoped>\n",
       "    .dataframe tbody tr th:only-of-type {\n",
       "        vertical-align: middle;\n",
       "    }\n",
       "\n",
       "    .dataframe tbody tr th {\n",
       "        vertical-align: top;\n",
       "    }\n",
       "\n",
       "    .dataframe thead th {\n",
       "        text-align: right;\n",
       "    }\n",
       "</style>\n",
       "<table border=\"1\" class=\"dataframe\">\n",
       "  <thead>\n",
       "    <tr style=\"text-align: right;\">\n",
       "      <th></th>\n",
       "      <th></th>\n",
       "      <th>label</th>\n",
       "      <th>text</th>\n",
       "      <th>negative</th>\n",
       "      <th>neutral</th>\n",
       "      <th>positive</th>\n",
       "      <th>tokens</th>\n",
       "    </tr>\n",
       "    <tr>\n",
       "      <th>label</th>\n",
       "      <th></th>\n",
       "      <th></th>\n",
       "      <th></th>\n",
       "      <th></th>\n",
       "      <th></th>\n",
       "      <th></th>\n",
       "      <th></th>\n",
       "    </tr>\n",
       "  </thead>\n",
       "  <tbody>\n",
       "    <tr>\n",
       "      <th rowspan=\"5\" valign=\"top\">negative</th>\n",
       "      <th>15222</th>\n",
       "      <td>negative</td>\n",
       "      <td>regardless of whether they are muslims i don t...</td>\n",
       "      <td>1</td>\n",
       "      <td>0</td>\n",
       "      <td>0</td>\n",
       "      <td>[regardless, whether, muslim, understand, fren...</td>\n",
       "    </tr>\n",
       "    <tr>\n",
       "      <th>17610</th>\n",
       "      <td>negative</td>\n",
       "      <td>so i sat through that for nintendo s announcem...</td>\n",
       "      <td>1</td>\n",
       "      <td>0</td>\n",
       "      <td>0</td>\n",
       "      <td>[sat, announcement, make, one, like, even, tra...</td>\n",
       "    </tr>\n",
       "    <tr>\n",
       "      <th>6289</th>\n",
       "      <td>negative</td>\n",
       "      <td>managed to loose my keys on 6th puke my guts u...</td>\n",
       "      <td>1</td>\n",
       "      <td>0</td>\n",
       "      <td>0</td>\n",
       "      <td>[managed, loose, key, 6th, puke, next, day, so...</td>\n",
       "    </tr>\n",
       "    <tr>\n",
       "      <th>17932</th>\n",
       "      <td>negative</td>\n",
       "      <td>the guy who predicted the end of the world mov...</td>\n",
       "      <td>1</td>\n",
       "      <td>0</td>\n",
       "      <td>0</td>\n",
       "      <td>[guy, predicted, end, world, moved, date, oct,...</td>\n",
       "    </tr>\n",
       "    <tr>\n",
       "      <th>4288</th>\n",
       "      <td>negative</td>\n",
       "      <td>yakub coverage outrage over notice to channels...</td>\n",
       "      <td>1</td>\n",
       "      <td>0</td>\n",
       "      <td>0</td>\n",
       "      <td>[yakub, coverage, outrage, notice, channel, jo...</td>\n",
       "    </tr>\n",
       "  </tbody>\n",
       "</table>\n",
       "</div>"
      ],
      "text/plain": [
       "                   label                                               text  \\\n",
       "label                                                                         \n",
       "negative 15222  negative  regardless of whether they are muslims i don t...   \n",
       "         17610  negative  so i sat through that for nintendo s announcem...   \n",
       "         6289   negative  managed to loose my keys on 6th puke my guts u...   \n",
       "         17932  negative  the guy who predicted the end of the world mov...   \n",
       "         4288   negative  yakub coverage outrage over notice to channels...   \n",
       "\n",
       "                negative  neutral  positive  \\\n",
       "label                                         \n",
       "negative 15222         1        0         0   \n",
       "         17610         1        0         0   \n",
       "         6289          1        0         0   \n",
       "         17932         1        0         0   \n",
       "         4288          1        0         0   \n",
       "\n",
       "                                                           tokens  \n",
       "label                                                              \n",
       "negative 15222  [regardless, whether, muslim, understand, fren...  \n",
       "         17610  [sat, announcement, make, one, like, even, tra...  \n",
       "         6289   [managed, loose, key, 6th, puke, next, day, so...  \n",
       "         17932  [guy, predicted, end, world, moved, date, oct,...  \n",
       "         4288   [yakub, coverage, outrage, notice, channel, jo...  "
      ]
     },
     "execution_count": 12,
     "metadata": {},
     "output_type": "execute_result"
    }
   ],
   "source": [
    "df.head()"
   ]
  },
  {
   "cell_type": "markdown",
   "metadata": {},
   "source": [
    "### Разбиение выборки"
   ]
  },
  {
   "cell_type": "code",
   "execution_count": 13,
   "metadata": {},
   "outputs": [],
   "source": [
    "from sklearn.model_selection import train_test_split\n",
    "\n",
    "df_train, df_test = train_test_split(df, test_size=0.1)\n",
    "\n",
    "y_train, y_test = df_train[['negative', 'neutral', 'positive']].values, df_test[['negative', 'neutral', 'positive']].values"
   ]
  },
  {
   "cell_type": "markdown",
   "metadata": {},
   "source": [
    "### Векторизация текстов"
   ]
  },
  {
   "cell_type": "code",
   "execution_count": 14,
   "metadata": {},
   "outputs": [
    {
     "name": "stderr",
     "output_type": "stream",
     "text": [
      "Using TensorFlow backend.\n"
     ]
    }
   ],
   "source": [
    "from keras.preprocessing.text import Tokenizer\n",
    "from keras.preprocessing.sequence import pad_sequences\n",
    "\n",
    "# максимальное количество слов в тексте \n",
    "MAX_SEQUENCE_LENGTH = df['tokens'].map(len).max()\n",
    "\n",
    "# количество слов в словаре\n",
    "NUM_WORDS = 5000\n",
    "\n",
    "def get_sequences(tokenizer, texts):\n",
    "    sequences = tokenizer.texts_to_sequences(texts)\n",
    "    return pad_sequences(sequences, maxlen=MAX_SEQUENCE_LENGTH)\n",
    "\n",
    "# создание и обучение токенизатора\n",
    "tokenizer = Tokenizer(num_words=NUM_WORDS)\n",
    "tokenizer.fit_on_texts(df_train['tokens'].tolist())\n",
    "\n",
    "# преобразование текстов в массивы идентификаторов токенов\n",
    "x_train = get_sequences(tokenizer, df_train['tokens'].values)\n",
    "x_test = get_sequences(tokenizer, df_test['tokens'].values)"
   ]
  },
  {
   "cell_type": "markdown",
   "metadata": {},
   "source": [
    "### Векторизация слов"
   ]
  },
  {
   "cell_type": "code",
   "execution_count": 15,
   "metadata": {},
   "outputs": [],
   "source": [
    "import multiprocessing\n",
    "\n",
    "import numpy as np\n",
    "\n",
    "import gensim\n",
    "from gensim.models import Word2Vec\n",
    "\n",
    "# размерность вектора слова\n",
    "EMBEDDING_DIM = 200\n",
    "\n",
    "# создание и обучение модели Word2Vec \n",
    "word2vec = Word2Vec(df['tokens'].values, size=EMBEDDING_DIM, window=5, min_count=3, workers=multiprocessing.cpu_count())\n",
    "\n",
    "# построение матрицы весов embedding-слоя\n",
    "embedding_matrix = np.zeros((NUM_WORDS, EMBEDDING_DIM))\n",
    "\n",
    "for word, i in tokenizer.word_index.items():\n",
    "    if i == NUM_WORDS:\n",
    "        break\n",
    "    embedding_matrix[i] = word2vec.wv[word]"
   ]
  },
  {
   "cell_type": "markdown",
   "metadata": {},
   "source": [
    "## Построение классификаторов"
   ]
  },
  {
   "cell_type": "markdown",
   "metadata": {},
   "source": [
    "### Объявление метрик"
   ]
  },
  {
   "cell_type": "code",
   "execution_count": 16,
   "metadata": {},
   "outputs": [],
   "source": [
    "from keras import backend as K\n",
    "\n",
    "def precision(y_true, y_pred):\n",
    "    true_positives = K.sum(K.round(K.clip(y_true * y_pred, 0, 1)))\n",
    "    predicted_positives = K.sum(K.round(K.clip(y_pred, 0, 1)))\n",
    "    return true_positives / (predicted_positives + K.epsilon())\n",
    "\n",
    "def recall(y_true, y_pred):\n",
    "    true_positives = K.sum(K.round(K.clip(y_true * y_pred, 0, 1)))\n",
    "    possible_positives = K.sum(K.round(K.clip(y_true, 0, 1)))\n",
    "    return true_positives / (possible_positives + K.epsilon())\n",
    "\n",
    "def f1(y_true, y_pred):\n",
    "    p = precision(y_true, y_pred)\n",
    "    r = recall(y_true, y_pred)\n",
    "    return 2 * ((p * r) / (p + r + K.epsilon()))\n",
    "\n",
    "metrics = [precision, recall, f1]"
   ]
  },
  {
   "cell_type": "markdown",
   "metadata": {},
   "source": [
    "### LSTM"
   ]
  },
  {
   "cell_type": "code",
   "execution_count": 17,
   "metadata": {},
   "outputs": [],
   "source": [
    "from keras.layers import Input, Dense, Dropout, LSTM\n",
    "from keras.layers.embeddings import Embedding\n",
    "from keras.models import Sequential\n",
    "\n",
    "def build_lstm(max_sequence_length, num_words, embedding_dim, embedding_matrix, labels_index):\n",
    "    model = Sequential()\n",
    "    model.add(Embedding(num_words, embedding_dim, input_length=max_sequence_length))\n",
    "    model.add(LSTM(embedding_dim))\n",
    "    model.add(Dense(labels_index, activation='softmax'))\n",
    "    model.compile(loss='categorical_crossentropy', optimizer='adam', metrics=metrics)\n",
    "    return model"
   ]
  },
  {
   "cell_type": "code",
   "execution_count": 18,
   "metadata": {},
   "outputs": [
    {
     "name": "stdout",
     "output_type": "stream",
     "text": [
      "Model: \"sequential_1\"\n",
      "_________________________________________________________________\n",
      "Layer (type)                 Output Shape              Param #   \n",
      "=================================================================\n",
      "embedding_1 (Embedding)      (None, 25, 200)           1000000   \n",
      "_________________________________________________________________\n",
      "lstm_1 (LSTM)                (None, 200)               320800    \n",
      "_________________________________________________________________\n",
      "dense_1 (Dense)              (None, 3)                 603       \n",
      "=================================================================\n",
      "Total params: 1,321,403\n",
      "Trainable params: 1,321,403\n",
      "Non-trainable params: 0\n",
      "_________________________________________________________________\n"
     ]
    }
   ],
   "source": [
    "lstm = build_lstm(MAX_SEQUENCE_LENGTH, NUM_WORDS, EMBEDDING_DIM, embedding_matrix, 3) \n",
    "lstm.summary()"
   ]
  },
  {
   "cell_type": "code",
   "execution_count": 19,
   "metadata": {},
   "outputs": [
    {
     "name": "stderr",
     "output_type": "stream",
     "text": [
      "/usr/local/lib/python3.6/dist-packages/tensorflow_core/python/framework/indexed_slices.py:433: UserWarning: Converting sparse IndexedSlices to a dense Tensor of unknown shape. This may consume a large amount of memory.\n",
      "  \"Converting sparse IndexedSlices to a dense Tensor of unknown shape. \"\n"
     ]
    },
    {
     "name": "stdout",
     "output_type": "stream",
     "text": [
      "Train on 9576 samples, validate on 1064 samples\n",
      "Epoch 1/5\n",
      "9576/9576 [==============================] - 43s 4ms/step - loss: 0.9371 - precision: 0.5797 - recall: 0.3116 - f1: 0.3942 - val_loss: 0.8796 - val_precision: 0.6700 - val_recall: 0.3722 - val_f1: 0.4771\n",
      "Epoch 2/5\n",
      "9576/9576 [==============================] - 39s 4ms/step - loss: 0.6888 - precision: 0.7507 - recall: 0.6259 - f1: 0.6813 - val_loss: 0.8982 - val_precision: 0.6285 - val_recall: 0.5110 - val_f1: 0.5629\n",
      "Epoch 3/5\n",
      "9576/9576 [==============================] - 36s 4ms/step - loss: 0.5204 - precision: 0.8128 - recall: 0.7409 - f1: 0.7745 - val_loss: 1.0262 - val_precision: 0.5814 - val_recall: 0.5129 - val_f1: 0.5443\n",
      "Epoch 4/5\n",
      "9576/9576 [==============================] - 40s 4ms/step - loss: 0.3706 - precision: 0.8707 - recall: 0.8315 - f1: 0.8503 - val_loss: 1.3459 - val_precision: 0.5378 - val_recall: 0.5000 - val_f1: 0.5180\n",
      "Epoch 5/5\n",
      "9576/9576 [==============================] - 38s 4ms/step - loss: 0.2568 - precision: 0.9161 - recall: 0.8878 - f1: 0.9015 - val_loss: 1.6685 - val_precision: 0.5440 - val_recall: 0.5147 - val_f1: 0.5287\n"
     ]
    }
   ],
   "source": [
    "history = lstm.fit(x_train, y_train, batch_size=32, epochs=5, validation_split=0.1)"
   ]
  },
  {
   "cell_type": "code",
   "execution_count": 20,
   "metadata": {},
   "outputs": [
    {
     "name": "stdout",
     "output_type": "stream",
     "text": [
      "              precision    recall  f1-score   support\n",
      "\n",
      "           0     0.6146    0.6289    0.6217       388\n",
      "           1     0.4851    0.3879    0.4311       379\n",
      "           2     0.6379    0.6562    0.6469       416\n",
      "\n",
      "   micro avg     0.5887    0.5613    0.5746      1183\n",
      "   macro avg     0.5792    0.5577    0.5666      1183\n",
      "weighted avg     0.5813    0.5613    0.5695      1183\n",
      " samples avg     0.5613    0.5613    0.5613      1183\n",
      "\n"
     ]
    }
   ],
   "source": [
    "from sklearn.metrics import classification_report\n",
    "\n",
    "predicted = np.round(lstm.predict(x_test))\n",
    "lstm_metrics = classification_report(y_test, predicted, digits=4,  zero_division=0)\n",
    "print(lstm_metrics)"
   ]
  },
  {
   "cell_type": "markdown",
   "metadata": {},
   "source": [
    "### CNN"
   ]
  },
  {
   "cell_type": "code",
   "execution_count": 21,
   "metadata": {},
   "outputs": [],
   "source": [
    "from keras.layers import concatenate\n",
    "from keras.layers.convolutional import Conv1D\n",
    "from keras.layers.pooling import GlobalMaxPooling1D\n",
    "from keras.models import Model\n",
    "\n",
    "def build_cnn(max_sequence_length, num_words, embedding_dim, embedding_matrix, labels_index):\n",
    "    input_layer = Input(shape=(max_sequence_length,), dtype='int32')\n",
    "    encoder_layer = Embedding(num_words, embedding_dim, input_length=max_sequence_length)(input_layer)\n",
    "    \n",
    "    filter_layers = []\n",
    "    \n",
    "    for filter_size in range(2, 7):\n",
    "        layer = Conv1D(filters=200, kernel_size=filter_size, activation='relu')(encoder_layer)\n",
    "        layer = GlobalMaxPooling1D()(layer)\n",
    "        filter_layers.append(layer)\n",
    "    \n",
    "    x = concatenate(filter_layers, axis=1)\n",
    "    x = Dropout(0.1)(x)  \n",
    "    x = Dense(128, activation='relu')(x)\n",
    "    x = Dropout(0.2)(x)\n",
    "    \n",
    "    output_layer = Dense(labels_index, activation='softmax')(x)\n",
    "    \n",
    "    model = Model(input_layer, output_layer)\n",
    "    model.compile(loss='categorical_crossentropy', optimizer='adam', metrics=metrics)\n",
    "    return model"
   ]
  },
  {
   "cell_type": "code",
   "execution_count": 22,
   "metadata": {},
   "outputs": [
    {
     "name": "stdout",
     "output_type": "stream",
     "text": [
      "Model: \"model_1\"\n",
      "__________________________________________________________________________________________________\n",
      "Layer (type)                    Output Shape         Param #     Connected to                     \n",
      "==================================================================================================\n",
      "input_1 (InputLayer)            (None, 25)           0                                            \n",
      "__________________________________________________________________________________________________\n",
      "embedding_2 (Embedding)         (None, 25, 200)      1000000     input_1[0][0]                    \n",
      "__________________________________________________________________________________________________\n",
      "conv1d_1 (Conv1D)               (None, 24, 200)      80200       embedding_2[0][0]                \n",
      "__________________________________________________________________________________________________\n",
      "conv1d_2 (Conv1D)               (None, 23, 200)      120200      embedding_2[0][0]                \n",
      "__________________________________________________________________________________________________\n",
      "conv1d_3 (Conv1D)               (None, 22, 200)      160200      embedding_2[0][0]                \n",
      "__________________________________________________________________________________________________\n",
      "conv1d_4 (Conv1D)               (None, 21, 200)      200200      embedding_2[0][0]                \n",
      "__________________________________________________________________________________________________\n",
      "conv1d_5 (Conv1D)               (None, 20, 200)      240200      embedding_2[0][0]                \n",
      "__________________________________________________________________________________________________\n",
      "global_max_pooling1d_1 (GlobalM (None, 200)          0           conv1d_1[0][0]                   \n",
      "__________________________________________________________________________________________________\n",
      "global_max_pooling1d_2 (GlobalM (None, 200)          0           conv1d_2[0][0]                   \n",
      "__________________________________________________________________________________________________\n",
      "global_max_pooling1d_3 (GlobalM (None, 200)          0           conv1d_3[0][0]                   \n",
      "__________________________________________________________________________________________________\n",
      "global_max_pooling1d_4 (GlobalM (None, 200)          0           conv1d_4[0][0]                   \n",
      "__________________________________________________________________________________________________\n",
      "global_max_pooling1d_5 (GlobalM (None, 200)          0           conv1d_5[0][0]                   \n",
      "__________________________________________________________________________________________________\n",
      "concatenate_1 (Concatenate)     (None, 1000)         0           global_max_pooling1d_1[0][0]     \n",
      "                                                                 global_max_pooling1d_2[0][0]     \n",
      "                                                                 global_max_pooling1d_3[0][0]     \n",
      "                                                                 global_max_pooling1d_4[0][0]     \n",
      "                                                                 global_max_pooling1d_5[0][0]     \n",
      "__________________________________________________________________________________________________\n",
      "dropout_1 (Dropout)             (None, 1000)         0           concatenate_1[0][0]              \n",
      "__________________________________________________________________________________________________\n",
      "dense_2 (Dense)                 (None, 128)          128128      dropout_1[0][0]                  \n",
      "__________________________________________________________________________________________________\n",
      "dropout_2 (Dropout)             (None, 128)          0           dense_2[0][0]                    \n",
      "__________________________________________________________________________________________________\n",
      "dense_3 (Dense)                 (None, 3)            387         dropout_2[0][0]                  \n",
      "==================================================================================================\n",
      "Total params: 1,929,515\n",
      "Trainable params: 1,929,515\n",
      "Non-trainable params: 0\n",
      "__________________________________________________________________________________________________\n"
     ]
    }
   ],
   "source": [
    "cnn = build_cnn(MAX_SEQUENCE_LENGTH, NUM_WORDS, EMBEDDING_DIM, embedding_matrix, 3) \n",
    "cnn.summary()"
   ]
  },
  {
   "cell_type": "code",
   "execution_count": 23,
   "metadata": {
    "scrolled": true
   },
   "outputs": [
    {
     "name": "stderr",
     "output_type": "stream",
     "text": [
      "/usr/local/lib/python3.6/dist-packages/tensorflow_core/python/framework/indexed_slices.py:433: UserWarning: Converting sparse IndexedSlices to a dense Tensor of unknown shape. This may consume a large amount of memory.\n",
      "  \"Converting sparse IndexedSlices to a dense Tensor of unknown shape. \"\n"
     ]
    },
    {
     "name": "stdout",
     "output_type": "stream",
     "text": [
      "Train on 9576 samples, validate on 1064 samples\n",
      "Epoch 1/5\n",
      "9576/9576 [==============================] - 37s 4ms/step - loss: 0.9608 - precision: 0.5207 - recall: 0.2699 - f1: 0.3434 - val_loss: 0.8771 - val_precision: 0.6708 - val_recall: 0.4430 - val_f1: 0.5306\n",
      "Epoch 2/5\n",
      "9576/9576 [==============================] - 40s 4ms/step - loss: 0.6861 - precision: 0.7498 - recall: 0.6465 - f1: 0.6934 - val_loss: 0.9183 - val_precision: 0.6023 - val_recall: 0.4972 - val_f1: 0.5437\n",
      "Epoch 3/5\n",
      "9576/9576 [==============================] - 34s 4ms/step - loss: 0.4088 - precision: 0.8603 - recall: 0.8207 - f1: 0.8396 - val_loss: 1.1663 - val_precision: 0.5606 - val_recall: 0.5230 - val_f1: 0.5407\n",
      "Epoch 4/5\n",
      "9576/9576 [==============================] - 35s 4ms/step - loss: 0.1601 - precision: 0.9494 - recall: 0.9398 - f1: 0.9445 - val_loss: 1.7003 - val_precision: 0.5458 - val_recall: 0.5230 - val_f1: 0.5339\n",
      "Epoch 5/5\n",
      "9576/9576 [==============================] - 35s 4ms/step - loss: 0.0575 - precision: 0.9860 - recall: 0.9833 - f1: 0.9846 - val_loss: 2.1390 - val_precision: 0.5563 - val_recall: 0.5460 - val_f1: 0.5510\n"
     ]
    }
   ],
   "source": [
    "history = cnn.fit(x_train, y_train, batch_size=32, epochs=5, validation_split=0.1)"
   ]
  },
  {
   "cell_type": "code",
   "execution_count": 24,
   "metadata": {},
   "outputs": [
    {
     "name": "stdout",
     "output_type": "stream",
     "text": [
      "              precision    recall  f1-score   support\n",
      "\n",
      "           0     0.6434    0.6649    0.6540       388\n",
      "           1     0.4805    0.4222    0.4494       379\n",
      "           2     0.6526    0.6683    0.6603       416\n",
      "\n",
      "   micro avg     0.6000    0.5883    0.5941      1183\n",
      "   macro avg     0.5922    0.5851    0.5879      1183\n",
      "weighted avg     0.5944    0.5883    0.5907      1183\n",
      " samples avg     0.5883    0.5883    0.5883      1183\n",
      "\n"
     ]
    }
   ],
   "source": [
    "predicted = np.round(cnn.predict(x_test))\n",
    "cnn_metrics = classification_report(y_test, predicted, digits=4,  zero_division=0)\n",
    "print(cnn_metrics)"
   ]
  },
  {
   "cell_type": "code",
   "execution_count": 25,
   "metadata": {},
   "outputs": [],
   "source": [
    "output = 'output.txt'\n",
    "with open(output, 'a') as f:\n",
    "    f.write('2016, 3 класса, LSTM')\n",
    "    f.write('\\n')        \n",
    "    f.write(lstm_metrics)\n",
    "    f.write('\\n')        \n",
    "    f.write('2016, 3 класса, CNN')\n",
    "    f.write('\\n')        \n",
    "    f.write(cnn_metrics)\n",
    "    f.write('\\n')"
   ]
  },
  {
   "cell_type": "code",
   "execution_count": null,
   "metadata": {},
   "outputs": [],
   "source": []
  }
 ],
 "metadata": {
  "kernelspec": {
   "display_name": "Python 3",
   "language": "python",
   "name": "python3"
  },
  "language_info": {
   "codemirror_mode": {
    "name": "ipython",
    "version": 3
   },
   "file_extension": ".py",
   "mimetype": "text/x-python",
   "name": "python",
   "nbconvert_exporter": "python",
   "pygments_lexer": "ipython3",
   "version": "3.6.9"
  }
 },
 "nbformat": 4,
 "nbformat_minor": 4
}
