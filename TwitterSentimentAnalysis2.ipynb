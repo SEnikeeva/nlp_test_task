{
 "cells": [
  {
   "cell_type": "markdown",
   "metadata": {},
   "source": [
    "# Анализ тональности текста (tweet'а)\n",
    "\n",
    "Цель: построить классификатор для задачи анализа тональности текстов на основе сверточных нейронных сетей и LSTM модели.\n",
    "\n",
    "Данные: сообщения из Twitter за 2016 год."
   ]
  },
  {
   "cell_type": "markdown",
   "metadata": {},
   "source": [
    "## Загрузка данных"
   ]
  },
  {
   "cell_type": "code",
   "execution_count": 1,
   "metadata": {},
   "outputs": [],
   "source": [
    "import pandas as pd\n",
    "\n",
    "df = pd.read_csv('./data/data.csv', header=None, usecols=[1, 2], names=['label', 'text'], sep='\\t')"
   ]
  },
  {
   "cell_type": "code",
   "execution_count": 2,
   "metadata": {},
   "outputs": [
    {
     "data": {
      "text/html": [
       "<div>\n",
       "<style scoped>\n",
       "    .dataframe tbody tr th:only-of-type {\n",
       "        vertical-align: middle;\n",
       "    }\n",
       "\n",
       "    .dataframe tbody tr th {\n",
       "        vertical-align: top;\n",
       "    }\n",
       "\n",
       "    .dataframe thead th {\n",
       "        text-align: right;\n",
       "    }\n",
       "</style>\n",
       "<table border=\"1\" class=\"dataframe\">\n",
       "  <thead>\n",
       "    <tr style=\"text-align: right;\">\n",
       "      <th></th>\n",
       "      <th>label</th>\n",
       "      <th>text</th>\n",
       "    </tr>\n",
       "  </thead>\n",
       "  <tbody>\n",
       "    <tr>\n",
       "      <th>0</th>\n",
       "      <td>neutral</td>\n",
       "      <td>Picturehouse's, Pink Floyd's, 'Roger Waters: T...</td>\n",
       "    </tr>\n",
       "    <tr>\n",
       "      <th>1</th>\n",
       "      <td>neutral</td>\n",
       "      <td>Order Go Set a Watchman in store or through ou...</td>\n",
       "    </tr>\n",
       "    <tr>\n",
       "      <th>2</th>\n",
       "      <td>negative</td>\n",
       "      <td>If these runway renovations at the airport pre...</td>\n",
       "    </tr>\n",
       "    <tr>\n",
       "      <th>3</th>\n",
       "      <td>neutral</td>\n",
       "      <td>If you could ask an onstage interview question...</td>\n",
       "    </tr>\n",
       "    <tr>\n",
       "      <th>4</th>\n",
       "      <td>positive</td>\n",
       "      <td>A portion of book sales from our Harper Lee/Go...</td>\n",
       "    </tr>\n",
       "  </tbody>\n",
       "</table>\n",
       "</div>"
      ],
      "text/plain": [
       "      label                                               text\n",
       "0   neutral  Picturehouse's, Pink Floyd's, 'Roger Waters: T...\n",
       "1   neutral  Order Go Set a Watchman in store or through ou...\n",
       "2  negative  If these runway renovations at the airport pre...\n",
       "3   neutral  If you could ask an onstage interview question...\n",
       "4  positive  A portion of book sales from our Harper Lee/Go..."
      ]
     },
     "execution_count": 2,
     "metadata": {},
     "output_type": "execute_result"
    }
   ],
   "source": [
    "df.head()"
   ]
  },
  {
   "cell_type": "code",
   "execution_count": 3,
   "metadata": {},
   "outputs": [],
   "source": [
    "df['label'].value_counts().plot(kind='bar');"
   ]
  },
  {
   "cell_type": "markdown",
   "metadata": {},
   "source": [
    "## Подготовка данных"
   ]
  },
  {
   "cell_type": "code",
   "execution_count": 4,
   "metadata": {},
   "outputs": [],
   "source": [
    "MAX_TEXT_LENGTH = 140\n",
    "\n",
    "# удаление слишком длинных записей\n",
    "df = df[df['text'].map(len) <= MAX_TEXT_LENGTH]"
   ]
  },
  {
   "cell_type": "code",
   "execution_count": 5,
   "metadata": {},
   "outputs": [],
   "source": [
    "# объединение нейтральных и негативных записей\n",
    "df['label'] = df['label'].replace('neutral', 'negative')\n",
    "\n",
    "# количество записей для каждой метки\n",
    "NUMBER_PER_LABEL = min(df['label'].value_counts())\n",
    "\n",
    "# семплирование на равные части\n",
    "df = df.groupby('label').apply(lambda x: x.sample(NUMBER_PER_LABEL))"
   ]
  },
  {
   "cell_type": "code",
   "execution_count": 6,
   "metadata": {},
   "outputs": [],
   "source": [
    "# one-hot encoding\n",
    "df = df.join(pd.get_dummies(df['label']))"
   ]
  },
  {
   "cell_type": "code",
   "execution_count": 7,
   "metadata": {},
   "outputs": [],
   "source": [
    "# замена ссылок на токен \"URL\"\n",
    "df['text'] = df['text'].str.replace(r'https?://\\S+', 'URL')\n",
    "\n",
    "# замена упоминаний пользователя на токен \"USER\"\n",
    "df['text'] = df['text'].str.replace(r'@[^\\s]+', 'USER')\n",
    "\n",
    "# удаление пунктуации\n",
    "df['text'] = df['text'].str.replace(r'[^a-zA-Z0-9]+', ' ')\n",
    "\n",
    "# приведение к нижнему регистру\n",
    "df['text'] = df['text'].str.lower()"
   ]
  },
  {
   "cell_type": "code",
   "execution_count": 8,
   "metadata": {},
   "outputs": [],
   "source": [
    "# токенизация\n",
    "import nltk\n",
    "\n",
    "df['tokens'] = df['text'].apply(nltk.word_tokenize)"
   ]
  },
  {
   "cell_type": "code",
   "execution_count": 9,
   "metadata": {},
   "outputs": [],
   "source": [
    "# лемматизация\n",
    "from nltk.stem import WordNetLemmatizer\n",
    "\n",
    "lemmatizer = WordNetLemmatizer()\n",
    "lemmatize = lambda tokens: [lemmatizer.lemmatize(token) for token in tokens]\n",
    "df['tokens'] = df['tokens'].apply(lemmatize)"
   ]
  },
  {
   "cell_type": "code",
   "execution_count": 10,
   "metadata": {},
   "outputs": [],
   "source": [
    "# удаление стоп-слов\n",
    "from nltk.corpus import stopwords\n",
    "\n",
    "STOP_WORDS = set(stopwords.words('english'))\n",
    "\n",
    "delete_stop_words = lambda words: [word for word in words if word not in STOP_WORDS]\n",
    "df['tokens'] = df['tokens'].apply(delete_stop_words)"
   ]
  },
  {
   "cell_type": "code",
   "execution_count": 11,
   "metadata": {},
   "outputs": [],
   "source": [
    "# удаление редких слов\n",
    "from collections import Counter\n",
    "\n",
    "MINIMAL_WORD_FREQUENCY = 3\n",
    "\n",
    "counter = Counter()\n",
    "for row in df['tokens']:\n",
    "    counter.update(row)\n",
    "\n",
    "delete_rare_words = lambda words: [word for word in words if counter[word] >= MINIMAL_WORD_FREQUENCY]\n",
    "df['tokens'] = df['tokens'].apply(delete_rare_words)"
   ]
  },
  {
   "cell_type": "markdown",
   "metadata": {},
   "source": [
    "### Разбиение выборки"
   ]
  },
  {
   "cell_type": "code",
   "execution_count": 12,
   "metadata": {},
   "outputs": [],
   "source": [
    "from sklearn.model_selection import train_test_split\n",
    "\n",
    "df_train, df_test = train_test_split(df, test_size=0.1)\n",
    "\n",
    "y_train, y_test = df_train[['negative', 'positive']].values, df_test[['negative', 'positive']].values"
   ]
  },
  {
   "cell_type": "markdown",
   "metadata": {},
   "source": [
    "### Векторизация текстов"
   ]
  },
  {
   "cell_type": "code",
   "execution_count": 13,
   "metadata": {},
   "outputs": [
    {
     "name": "stderr",
     "output_type": "stream",
     "text": [
      "Using TensorFlow backend.\n"
     ]
    }
   ],
   "source": [
    "from keras.preprocessing.text import Tokenizer\n",
    "from keras.preprocessing.sequence import pad_sequences\n",
    "\n",
    "# максимальное количество слов в тексте \n",
    "MAX_SEQUENCE_LENGTH = df['tokens'].map(len).max()\n",
    "\n",
    "# количество слов в словаре\n",
    "NUM_WORDS = 5000\n",
    "\n",
    "def get_sequences(tokenizer, texts):\n",
    "    sequences = tokenizer.texts_to_sequences(texts)\n",
    "    return pad_sequences(sequences, maxlen=MAX_SEQUENCE_LENGTH)\n",
    "\n",
    "# создание и обучение токенизатора\n",
    "tokenizer = Tokenizer(num_words=NUM_WORDS)\n",
    "tokenizer.fit_on_texts(df_train['tokens'].tolist())\n",
    "\n",
    "# преобразование текстов в массивы идентификаторов токенов\n",
    "x_train = get_sequences(tokenizer, df_train['tokens'].values)\n",
    "x_test = get_sequences(tokenizer, df_test['tokens'].values)"
   ]
  },
  {
   "cell_type": "markdown",
   "metadata": {},
   "source": [
    "### Векторизация слов"
   ]
  },
  {
   "cell_type": "code",
   "execution_count": 14,
   "metadata": {},
   "outputs": [],
   "source": [
    "import multiprocessing\n",
    "\n",
    "import numpy as np\n",
    "\n",
    "import gensim\n",
    "from gensim.models import Word2Vec\n",
    "\n",
    "# размерность вектора слова\n",
    "EMBEDDING_DIM = 200\n",
    "\n",
    "# создание и обучение модели Word2Vec \n",
    "word2vec = Word2Vec(df['tokens'].values, size=EMBEDDING_DIM, window=5, min_count=3, workers=multiprocessing.cpu_count())\n",
    "\n",
    "# построение матрицы весов embedding-слоя\n",
    "embedding_matrix = np.zeros((NUM_WORDS, EMBEDDING_DIM))\n",
    "\n",
    "for word, i in tokenizer.word_index.items():\n",
    "    if i == NUM_WORDS:\n",
    "        break\n",
    "    embedding_matrix[i] = word2vec.wv[word]"
   ]
  },
  {
   "cell_type": "markdown",
   "metadata": {},
   "source": [
    "## Построение классификаторов"
   ]
  },
  {
   "cell_type": "markdown",
   "metadata": {},
   "source": [
    "### Объявление метрик"
   ]
  },
  {
   "cell_type": "code",
   "execution_count": 15,
   "metadata": {},
   "outputs": [],
   "source": [
    "from keras import backend as K\n",
    "\n",
    "def precision(y_true, y_pred):\n",
    "    true_positives = K.sum(K.round(K.clip(y_true * y_pred, 0, 1)))\n",
    "    predicted_positives = K.sum(K.round(K.clip(y_pred, 0, 1)))\n",
    "    return true_positives / (predicted_positives + K.epsilon())\n",
    "\n",
    "def recall(y_true, y_pred):\n",
    "    true_positives = K.sum(K.round(K.clip(y_true * y_pred, 0, 1)))\n",
    "    possible_positives = K.sum(K.round(K.clip(y_true, 0, 1)))\n",
    "    return true_positives / (possible_positives + K.epsilon())\n",
    "\n",
    "def f1(y_true, y_pred):\n",
    "    p = precision(y_true, y_pred)\n",
    "    r = recall(y_true, y_pred)\n",
    "    return 2 * ((p * r) / (p + r + K.epsilon()))\n",
    "\n",
    "metrics = [precision, recall, f1]"
   ]
  },
  {
   "cell_type": "markdown",
   "metadata": {},
   "source": [
    "### LSTM"
   ]
  },
  {
   "cell_type": "code",
   "execution_count": 16,
   "metadata": {},
   "outputs": [],
   "source": [
    "from keras.layers import Input, Dense, Dropout, LSTM\n",
    "from keras.layers.embeddings import Embedding\n",
    "from keras.models import Sequential\n",
    "\n",
    "def build_lstm(max_sequence_length, num_words, embedding_dim, embedding_matrix, labels_index):\n",
    "    model = Sequential()\n",
    "    model.add(Embedding(num_words, embedding_dim, input_length=max_sequence_length))\n",
    "    model.add(LSTM(embedding_dim))\n",
    "    model.add(Dense(labels_index, activation='sigmoid'))\n",
    "    model.compile(loss='binary_crossentropy', optimizer='adam', metrics=metrics)\n",
    "    return model"
   ]
  },
  {
   "cell_type": "code",
   "execution_count": 17,
   "metadata": {},
   "outputs": [
    {
     "name": "stdout",
     "output_type": "stream",
     "text": [
      "Model: \"sequential_1\"\n",
      "_________________________________________________________________\n",
      "Layer (type)                 Output Shape              Param #   \n",
      "=================================================================\n",
      "embedding_1 (Embedding)      (None, 26, 200)           1000000   \n",
      "_________________________________________________________________\n",
      "lstm_1 (LSTM)                (None, 200)               320800    \n",
      "_________________________________________________________________\n",
      "dense_1 (Dense)              (None, 2)                 402       \n",
      "=================================================================\n",
      "Total params: 1,321,202\n",
      "Trainable params: 1,321,202\n",
      "Non-trainable params: 0\n",
      "_________________________________________________________________\n"
     ]
    }
   ],
   "source": [
    "lstm = build_lstm(MAX_SEQUENCE_LENGTH, NUM_WORDS, EMBEDDING_DIM, embedding_matrix, 2) \n",
    "lstm.summary()"
   ]
  },
  {
   "cell_type": "code",
   "execution_count": 18,
   "metadata": {},
   "outputs": [
    {
     "name": "stderr",
     "output_type": "stream",
     "text": [
      "/usr/local/lib/python3.6/dist-packages/tensorflow_core/python/framework/indexed_slices.py:433: UserWarning: Converting sparse IndexedSlices to a dense Tensor of unknown shape. This may consume a large amount of memory.\n",
      "  \"Converting sparse IndexedSlices to a dense Tensor of unknown shape. \"\n"
     ]
    },
    {
     "name": "stdout",
     "output_type": "stream",
     "text": [
      "Train on 15846 samples, validate on 1761 samples\n",
      "Epoch 1/5\n",
      "15846/15846 [==============================] - 67s 4ms/step - loss: 0.5731 - precision: 0.7005 - recall: 0.7010 - f1: 0.7006 - val_loss: 0.5334 - val_precision: 0.7162 - val_recall: 0.7154 - val_f1: 0.7158\n",
      "Epoch 2/5\n",
      "15846/15846 [==============================] - 62s 4ms/step - loss: 0.4570 - precision: 0.7850 - recall: 0.7845 - f1: 0.7847 - val_loss: 0.5346 - val_precision: 0.7196 - val_recall: 0.7204 - val_f1: 0.7200\n",
      "Epoch 3/5\n",
      "15846/15846 [==============================] - 66s 4ms/step - loss: 0.3809 - precision: 0.8241 - recall: 0.8243 - f1: 0.8242 - val_loss: 0.5861 - val_precision: 0.7111 - val_recall: 0.7098 - val_f1: 0.7105\n",
      "Epoch 4/5\n",
      "15846/15846 [==============================] - 50s 3ms/step - loss: 0.3083 - precision: 0.8637 - recall: 0.8635 - f1: 0.8636 - val_loss: 0.7023 - val_precision: 0.7148 - val_recall: 0.7143 - val_f1: 0.7145\n",
      "Epoch 5/5\n",
      "15846/15846 [==============================] - 55s 3ms/step - loss: 0.2491 - precision: 0.8914 - recall: 0.8916 - f1: 0.8915 - val_loss: 0.7555 - val_precision: 0.7051 - val_recall: 0.7059 - val_f1: 0.7055\n"
     ]
    }
   ],
   "source": [
    "history = lstm.fit(x_train, y_train, batch_size=32, epochs=5, validation_split=0.1)"
   ]
  },
  {
   "cell_type": "code",
   "execution_count": 19,
   "metadata": {},
   "outputs": [
    {
     "name": "stdout",
     "output_type": "stream",
     "text": [
      "              precision    recall  f1-score   support\n",
      "\n",
      "           0     0.6877    0.6949    0.6913       957\n",
      "           1     0.7040    0.6970    0.7005      1000\n",
      "\n",
      "   micro avg     0.6960    0.6960    0.6960      1957\n",
      "   macro avg     0.6959    0.6959    0.6959      1957\n",
      "weighted avg     0.6960    0.6960    0.6960      1957\n",
      " samples avg     0.6955    0.6960    0.6956      1957\n",
      "\n"
     ]
    }
   ],
   "source": [
    "from sklearn.metrics import classification_report\n",
    "\n",
    "predicted = np.round(lstm.predict(x_test))\n",
    "lstm_metrics = classification_report(y_test, predicted, digits=4,  zero_division=0)\n",
    "print(lstm_metrics)"
   ]
  },
  {
   "cell_type": "markdown",
   "metadata": {},
   "source": [
    "### CNN"
   ]
  },
  {
   "cell_type": "code",
   "execution_count": 20,
   "metadata": {},
   "outputs": [],
   "source": [
    "from keras.layers import concatenate\n",
    "from keras.layers.convolutional import Conv1D\n",
    "from keras.layers.pooling import GlobalMaxPooling1D\n",
    "from keras.models import Model\n",
    "\n",
    "def build_cnn(max_sequence_length, num_words, embedding_dim, embedding_matrix, labels_index):\n",
    "    input_layer = Input(shape=(max_sequence_length,), dtype='int32')\n",
    "    encoder_layer = Embedding(num_words, embedding_dim, input_length=max_sequence_length)(input_layer)\n",
    "    \n",
    "    filter_layers = []\n",
    "    \n",
    "    for filter_size in range(2, 7):\n",
    "        layer = Conv1D(filters=200, kernel_size=filter_size, activation='relu')(encoder_layer)\n",
    "        layer = GlobalMaxPooling1D()(layer)\n",
    "        filter_layers.append(layer)\n",
    "    \n",
    "    x = concatenate(filter_layers, axis=1)\n",
    "    x = Dropout(0.1)(x)  \n",
    "    x = Dense(128, activation='relu')(x)\n",
    "    x = Dropout(0.2)(x)\n",
    "    \n",
    "    output_layer = Dense(labels_index, activation='sigmoid')(x)\n",
    "    \n",
    "    model = Model(input_layer, output_layer)\n",
    "    model.compile(loss='binary_crossentropy', optimizer='adam', metrics=metrics)\n",
    "    return model"
   ]
  },
  {
   "cell_type": "code",
   "execution_count": 21,
   "metadata": {},
   "outputs": [
    {
     "name": "stdout",
     "output_type": "stream",
     "text": [
      "Model: \"model_1\"\n",
      "__________________________________________________________________________________________________\n",
      "Layer (type)                    Output Shape         Param #     Connected to                     \n",
      "==================================================================================================\n",
      "input_1 (InputLayer)            (None, 26)           0                                            \n",
      "__________________________________________________________________________________________________\n",
      "embedding_2 (Embedding)         (None, 26, 200)      1000000     input_1[0][0]                    \n",
      "__________________________________________________________________________________________________\n",
      "conv1d_1 (Conv1D)               (None, 25, 200)      80200       embedding_2[0][0]                \n",
      "__________________________________________________________________________________________________\n",
      "conv1d_2 (Conv1D)               (None, 24, 200)      120200      embedding_2[0][0]                \n",
      "__________________________________________________________________________________________________\n",
      "conv1d_3 (Conv1D)               (None, 23, 200)      160200      embedding_2[0][0]                \n",
      "__________________________________________________________________________________________________\n",
      "conv1d_4 (Conv1D)               (None, 22, 200)      200200      embedding_2[0][0]                \n",
      "__________________________________________________________________________________________________\n",
      "conv1d_5 (Conv1D)               (None, 21, 200)      240200      embedding_2[0][0]                \n",
      "__________________________________________________________________________________________________\n",
      "global_max_pooling1d_1 (GlobalM (None, 200)          0           conv1d_1[0][0]                   \n",
      "__________________________________________________________________________________________________\n",
      "global_max_pooling1d_2 (GlobalM (None, 200)          0           conv1d_2[0][0]                   \n",
      "__________________________________________________________________________________________________\n",
      "global_max_pooling1d_3 (GlobalM (None, 200)          0           conv1d_3[0][0]                   \n",
      "__________________________________________________________________________________________________\n",
      "global_max_pooling1d_4 (GlobalM (None, 200)          0           conv1d_4[0][0]                   \n",
      "__________________________________________________________________________________________________\n",
      "global_max_pooling1d_5 (GlobalM (None, 200)          0           conv1d_5[0][0]                   \n",
      "__________________________________________________________________________________________________\n",
      "concatenate_1 (Concatenate)     (None, 1000)         0           global_max_pooling1d_1[0][0]     \n",
      "                                                                 global_max_pooling1d_2[0][0]     \n",
      "                                                                 global_max_pooling1d_3[0][0]     \n",
      "                                                                 global_max_pooling1d_4[0][0]     \n",
      "                                                                 global_max_pooling1d_5[0][0]     \n",
      "__________________________________________________________________________________________________\n",
      "dropout_1 (Dropout)             (None, 1000)         0           concatenate_1[0][0]              \n",
      "__________________________________________________________________________________________________\n",
      "dense_2 (Dense)                 (None, 128)          128128      dropout_1[0][0]                  \n",
      "__________________________________________________________________________________________________\n",
      "dropout_2 (Dropout)             (None, 128)          0           dense_2[0][0]                    \n",
      "__________________________________________________________________________________________________\n",
      "dense_3 (Dense)                 (None, 2)            258         dropout_2[0][0]                  \n",
      "==================================================================================================\n",
      "Total params: 1,929,386\n",
      "Trainable params: 1,929,386\n",
      "Non-trainable params: 0\n",
      "__________________________________________________________________________________________________\n"
     ]
    }
   ],
   "source": [
    "cnn = build_cnn(MAX_SEQUENCE_LENGTH, NUM_WORDS, EMBEDDING_DIM, embedding_matrix, 2) \n",
    "cnn.summary()"
   ]
  },
  {
   "cell_type": "code",
   "execution_count": 22,
   "metadata": {},
   "outputs": [
    {
     "name": "stderr",
     "output_type": "stream",
     "text": [
      "/usr/local/lib/python3.6/dist-packages/tensorflow_core/python/framework/indexed_slices.py:433: UserWarning: Converting sparse IndexedSlices to a dense Tensor of unknown shape. This may consume a large amount of memory.\n",
      "  \"Converting sparse IndexedSlices to a dense Tensor of unknown shape. \"\n"
     ]
    },
    {
     "name": "stdout",
     "output_type": "stream",
     "text": [
      "Train on 15846 samples, validate on 1761 samples\n",
      "Epoch 1/5\n",
      "15846/15846 [==============================] - 60s 4ms/step - loss: 0.5742 - precision: 0.6907 - recall: 0.6906 - f1: 0.6902 - val_loss: 0.5328 - val_precision: 0.7083 - val_recall: 0.7160 - val_f1: 0.7121\n",
      "Epoch 2/5\n",
      "15846/15846 [==============================] - 41s 3ms/step - loss: 0.4363 - precision: 0.7969 - recall: 0.7968 - f1: 0.7967 - val_loss: 0.5504 - val_precision: 0.7184 - val_recall: 0.7210 - val_f1: 0.7197\n",
      "Epoch 3/5\n",
      "15846/15846 [==============================] - 31s 2ms/step - loss: 0.2780 - precision: 0.8807 - recall: 0.8816 - f1: 0.8811 - val_loss: 0.6393 - val_precision: 0.7013 - val_recall: 0.6987 - val_f1: 0.6999\n",
      "Epoch 4/5\n",
      "15846/15846 [==============================] - 33s 2ms/step - loss: 0.1131 - precision: 0.9573 - recall: 0.9575 - f1: 0.9574 - val_loss: 1.1494 - val_precision: 0.6961 - val_recall: 0.6970 - val_f1: 0.6965\n",
      "Epoch 5/5\n",
      "15846/15846 [==============================] - 30s 2ms/step - loss: 0.0597 - precision: 0.9783 - recall: 0.9789 - f1: 0.9786 - val_loss: 1.2874 - val_precision: 0.6870 - val_recall: 0.6936 - val_f1: 0.6902\n"
     ]
    }
   ],
   "source": [
    "history = cnn.fit(x_train, y_train, batch_size=32, epochs=5, validation_split=0.1)"
   ]
  },
  {
   "cell_type": "code",
   "execution_count": 23,
   "metadata": {},
   "outputs": [
    {
     "name": "stdout",
     "output_type": "stream",
     "text": [
      "              precision    recall  f1-score   support\n",
      "\n",
      "           0     0.6581    0.7220    0.6886       957\n",
      "           1     0.7059    0.6480    0.6757      1000\n",
      "\n",
      "   micro avg     0.6804    0.6842    0.6823      1957\n",
      "   macro avg     0.6820    0.6850    0.6821      1957\n",
      "weighted avg     0.6825    0.6842    0.6820      1957\n",
      " samples avg     0.6814    0.6842    0.6823      1957\n",
      "\n"
     ]
    }
   ],
   "source": [
    "predicted = np.round(cnn.predict(x_test))\n",
    "cnn_metrics = classification_report(y_test, predicted, digits=4,  zero_division=0)\n",
    "print(cnn_metrics)"
   ]
  },
  {
   "cell_type": "code",
   "execution_count": 24,
   "metadata": {},
   "outputs": [],
   "source": [
    "output = 'output.txt'\n",
    "with open(output, 'a') as f:\n",
    "    f.write('2016, 2 класса, LSTM')\n",
    "    f.write('\\n')        \n",
    "    f.write(lstm_metrics)\n",
    "    f.write('\\n')        \n",
    "    f.write('2016, 2 класса, CNN')\n",
    "    f.write('\\n')        \n",
    "    f.write(cnn_metrics)\n",
    "    f.write('\\n')"
   ]
  },
  {
   "cell_type": "code",
   "execution_count": null,
   "metadata": {},
   "outputs": [],
   "source": []
  }
 ],
 "metadata": {
  "kernelspec": {
   "display_name": "Python 3",
   "language": "python",
   "name": "python3"
  },
  "language_info": {
   "codemirror_mode": {
    "name": "ipython",
    "version": 3
   },
   "file_extension": ".py",
   "mimetype": "text/x-python",
   "name": "python",
   "nbconvert_exporter": "python",
   "pygments_lexer": "ipython3",
   "version": "3.6.9"
  }
 },
 "nbformat": 4,
 "nbformat_minor": 4
}
